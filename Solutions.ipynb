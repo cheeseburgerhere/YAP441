{
 "cells": [
  {
   "cell_type": "code",
   "execution_count": 58,
   "id": "d97605c3",
   "metadata": {},
   "outputs": [],
   "source": [
    "import networkx as nx\n",
    "import matplotlib.pyplot as plt\n",
    "import pandas as pd\n",
    "import numpy as np"
   ]
  },
  {
   "cell_type": "code",
   "execution_count": 59,
   "id": "29663736",
   "metadata": {},
   "outputs": [
    {
     "name": "stderr",
     "output_type": "stream",
     "text": [
      "C:\\Users\\alt_user\\AppData\\Local\\Temp\\ipykernel_20060\\1826946197.py:2: DtypeWarning: Columns (20,21) have mixed types. Specify dtype option on import or set low_memory=False.\n",
      "  data=pd.read_csv('US Airline Flight Routes and Fares 1993-2024.csv').drop(columns=dropColumns).dropna().reset_index(drop=True)\n"
     ]
    },
    {
     "data": {
      "text/html": [
       "<div>\n",
       "<style scoped>\n",
       "    .dataframe tbody tr th:only-of-type {\n",
       "        vertical-align: middle;\n",
       "    }\n",
       "\n",
       "    .dataframe tbody tr th {\n",
       "        vertical-align: top;\n",
       "    }\n",
       "\n",
       "    .dataframe thead th {\n",
       "        text-align: right;\n",
       "    }\n",
       "</style>\n",
       "<table border=\"1\" class=\"dataframe\">\n",
       "  <thead>\n",
       "    <tr style=\"text-align: right;\">\n",
       "      <th></th>\n",
       "      <th>Year</th>\n",
       "      <th>quarter</th>\n",
       "      <th>city1</th>\n",
       "      <th>city2</th>\n",
       "      <th>airport_1</th>\n",
       "      <th>airport_2</th>\n",
       "      <th>nsmiles</th>\n",
       "      <th>passengers</th>\n",
       "      <th>fare</th>\n",
       "      <th>carrier_lg</th>\n",
       "      <th>large_ms</th>\n",
       "      <th>fare_lg</th>\n",
       "      <th>carrier_low</th>\n",
       "      <th>lf_ms</th>\n",
       "      <th>fare_low</th>\n",
       "      <th>Geocoded_City1</th>\n",
       "      <th>Geocoded_City2</th>\n",
       "    </tr>\n",
       "  </thead>\n",
       "  <tbody>\n",
       "    <tr>\n",
       "      <th>0</th>\n",
       "      <td>2010</td>\n",
       "      <td>1</td>\n",
       "      <td>Salt Lake City, UT</td>\n",
       "      <td>Tampa, FL (Metropolitan Area)</td>\n",
       "      <td>SLC</td>\n",
       "      <td>TPA</td>\n",
       "      <td>1887</td>\n",
       "      <td>200</td>\n",
       "      <td>226.59</td>\n",
       "      <td>DL</td>\n",
       "      <td>0.38</td>\n",
       "      <td>247.69</td>\n",
       "      <td>US</td>\n",
       "      <td>0.20</td>\n",
       "      <td>166.99</td>\n",
       "      <td>Salt Lake City, UT\\n(40.758478, -111.888142)</td>\n",
       "      <td>Tampa, FL (Metropolitan Area)\\n(37.8606, -78.8...</td>\n",
       "    </tr>\n",
       "    <tr>\n",
       "      <th>1</th>\n",
       "      <td>1998</td>\n",
       "      <td>4</td>\n",
       "      <td>Colorado Springs, CO</td>\n",
       "      <td>New York City, NY (Metropolitan Area)</td>\n",
       "      <td>COS</td>\n",
       "      <td>HPN</td>\n",
       "      <td>1678</td>\n",
       "      <td>5</td>\n",
       "      <td>280.39</td>\n",
       "      <td>UA</td>\n",
       "      <td>0.73</td>\n",
       "      <td>292.60</td>\n",
       "      <td>NW</td>\n",
       "      <td>0.24</td>\n",
       "      <td>248.27</td>\n",
       "      <td>Colorado Springs, CO\\n(38.835224, -104.819798)</td>\n",
       "      <td>New York City, NY (Metropolitan Area)\\n(40.123...</td>\n",
       "    </tr>\n",
       "    <tr>\n",
       "      <th>2</th>\n",
       "      <td>1998</td>\n",
       "      <td>4</td>\n",
       "      <td>Pittsburgh, PA</td>\n",
       "      <td>Washington, DC (Metropolitan Area)</td>\n",
       "      <td>PIT</td>\n",
       "      <td>BWI</td>\n",
       "      <td>210</td>\n",
       "      <td>152</td>\n",
       "      <td>239.12</td>\n",
       "      <td>US</td>\n",
       "      <td>0.93</td>\n",
       "      <td>245.70</td>\n",
       "      <td>CO</td>\n",
       "      <td>0.03</td>\n",
       "      <td>71.30</td>\n",
       "      <td>Pittsburgh, PA\\n(40.442169, -79.994945)</td>\n",
       "      <td>Washington, DC (Metropolitan Area)\\n(38.892062...</td>\n",
       "    </tr>\n",
       "    <tr>\n",
       "      <th>3</th>\n",
       "      <td>2009</td>\n",
       "      <td>3</td>\n",
       "      <td>Las Vegas, NV</td>\n",
       "      <td>Los Angeles, CA (Metropolitan Area)</td>\n",
       "      <td>LAS</td>\n",
       "      <td>SNA</td>\n",
       "      <td>236</td>\n",
       "      <td>1096</td>\n",
       "      <td>111.74</td>\n",
       "      <td>WN</td>\n",
       "      <td>0.58</td>\n",
       "      <td>118.28</td>\n",
       "      <td>US</td>\n",
       "      <td>0.41</td>\n",
       "      <td>102.75</td>\n",
       "      <td>Las Vegas, NV\\n(36.169202, -115.140597)</td>\n",
       "      <td>Los Angeles, CA (Metropolitan Area)\\n(34.05223...</td>\n",
       "    </tr>\n",
       "    <tr>\n",
       "      <th>4</th>\n",
       "      <td>1993</td>\n",
       "      <td>4</td>\n",
       "      <td>Huntsville, AL</td>\n",
       "      <td>Washington, DC (Metropolitan Area)</td>\n",
       "      <td>HSV</td>\n",
       "      <td>IAD</td>\n",
       "      <td>640</td>\n",
       "      <td>21</td>\n",
       "      <td>242.76</td>\n",
       "      <td>DL</td>\n",
       "      <td>0.48</td>\n",
       "      <td>275.50</td>\n",
       "      <td>UA</td>\n",
       "      <td>0.25</td>\n",
       "      <td>197.69</td>\n",
       "      <td>Huntsville, AL\\n(34.729538, -86.585283)</td>\n",
       "      <td>Washington, DC (Metropolitan Area)\\n(38.892062...</td>\n",
       "    </tr>\n",
       "  </tbody>\n",
       "</table>\n",
       "</div>"
      ],
      "text/plain": [
       "   Year  quarter                 city1                                  city2  \\\n",
       "0  2010        1    Salt Lake City, UT          Tampa, FL (Metropolitan Area)   \n",
       "1  1998        4  Colorado Springs, CO  New York City, NY (Metropolitan Area)   \n",
       "2  1998        4        Pittsburgh, PA     Washington, DC (Metropolitan Area)   \n",
       "3  2009        3         Las Vegas, NV    Los Angeles, CA (Metropolitan Area)   \n",
       "4  1993        4        Huntsville, AL     Washington, DC (Metropolitan Area)   \n",
       "\n",
       "  airport_1 airport_2  nsmiles  passengers    fare carrier_lg  large_ms  \\\n",
       "0       SLC       TPA     1887         200  226.59         DL      0.38   \n",
       "1       COS       HPN     1678           5  280.39         UA      0.73   \n",
       "2       PIT       BWI      210         152  239.12         US      0.93   \n",
       "3       LAS       SNA      236        1096  111.74         WN      0.58   \n",
       "4       HSV       IAD      640          21  242.76         DL      0.48   \n",
       "\n",
       "   fare_lg carrier_low  lf_ms  fare_low  \\\n",
       "0   247.69          US   0.20    166.99   \n",
       "1   292.60          NW   0.24    248.27   \n",
       "2   245.70          CO   0.03     71.30   \n",
       "3   118.28          US   0.41    102.75   \n",
       "4   275.50          UA   0.25    197.69   \n",
       "\n",
       "                                   Geocoded_City1  \\\n",
       "0    Salt Lake City, UT\\n(40.758478, -111.888142)   \n",
       "1  Colorado Springs, CO\\n(38.835224, -104.819798)   \n",
       "2         Pittsburgh, PA\\n(40.442169, -79.994945)   \n",
       "3         Las Vegas, NV\\n(36.169202, -115.140597)   \n",
       "4         Huntsville, AL\\n(34.729538, -86.585283)   \n",
       "\n",
       "                                      Geocoded_City2  \n",
       "0  Tampa, FL (Metropolitan Area)\\n(37.8606, -78.8...  \n",
       "1  New York City, NY (Metropolitan Area)\\n(40.123...  \n",
       "2  Washington, DC (Metropolitan Area)\\n(38.892062...  \n",
       "3  Los Angeles, CA (Metropolitan Area)\\n(34.05223...  \n",
       "4  Washington, DC (Metropolitan Area)\\n(38.892062...  "
      ]
     },
     "execution_count": 59,
     "metadata": {},
     "output_type": "execute_result"
    }
   ],
   "source": [
    "dropColumns=[\"tbl\",\"citymarketid_1\",\"citymarketid_2\",\"airportid_1\",\"airportid_2\",\"tbl1apk\"]\n",
    "data=pd.read_csv('US Airline Flight Routes and Fares 1993-2024.csv').drop(columns=dropColumns).dropna().reset_index(drop=True)\n",
    "data=data.loc[(data[\"city1\"]!=\"Key West, FL\") & (data[\"city2\"]!=\"Key West, FL\") & (data[\"city1\"]!=\"Tulsa, OK\") & (data[\"city2\"]!=\"Tulsa, OK\"),:].reset_index(drop=True)\n",
    "# data=data.loc[(data[\"Year\"]==year) & (data[\"quarter\"]==quarter),:].reset_index(drop=True)\n",
    "data.head()"
   ]
  },
  {
   "cell_type": "code",
   "execution_count": 60,
   "id": "05c22197",
   "metadata": {},
   "outputs": [],
   "source": [
    "# data=data.sample(50, random_state=42)"
   ]
  },
  {
   "cell_type": "code",
   "execution_count": 61,
   "id": "e7ef7302",
   "metadata": {},
   "outputs": [],
   "source": [
    "G = nx.MultiDiGraph()\n",
    "GGen=nx.Graph()\n",
    "\n",
    "dataNp=data[\"city1\"].to_numpy()\n",
    "posNp=data[\"Geocoded_City1\"].to_numpy()\n",
    "for airport, pos in zip(dataNp,posNp):\n",
    "    pos=pos.split(\"(\")[-1][:-1]\n",
    "    latitude,longtitude=pos.split(\",\")\n",
    "    pos=(float(latitude),float(longtitude))\n",
    "    G.add_node(airport,pos=pos)\n",
    "    G.add_node(airport,pos=pos)\n",
    "\n",
    "\n",
    "dataNp=data[\"city2\"].to_numpy()\n",
    "posNp=data[\"Geocoded_City2\"].to_numpy()\n",
    "for airport, pos in zip(dataNp,posNp):\n",
    "    pos=pos.split(\"(\")[-1][:-1]\n",
    "    latitude,longtitude=pos.split(\",\")\n",
    "    pos=(float(latitude),float(longtitude))\n",
    "    G.add_node(airport,pos=pos)\n",
    "    GGen.add_node(airport,pos=pos)"
   ]
  },
  {
   "cell_type": "code",
   "execution_count": 62,
   "id": "b0cbf243",
   "metadata": {},
   "outputs": [],
   "source": [
    "# flights=[]\n",
    "\n",
    "dfNp=data.to_numpy()\n",
    "\n",
    "for flight in dfNp:\n",
    "    origin, dest, distance, fare, originPos, destPos = flight[2], flight[3], flight[6], flight[8], flight[-2], flight[-1]\n",
    "    # flights.append((origin,dest,distance,fare,originPos,destPos))\n",
    "    G.add_edge(origin,dest,weight=distance,price=fare)\n",
    "    GGen.add_edge(origin,dest,weight=distance,price=fare)\n"
   ]
  },
  {
   "cell_type": "code",
   "execution_count": 63,
   "id": "e4289e4d",
   "metadata": {},
   "outputs": [
    {
     "name": "stdout",
     "output_type": "stream",
     "text": [
      "Start:  New York City, NY (Metropolitan Area)  End:  Tucson, AZ\n"
     ]
    }
   ],
   "source": [
    "\n",
    "if(input(\"Do you want random start and end cities? (y/n) \")==\"y\"):\n",
    "    start= data.sample(1)[\"city1\"].values[0]\n",
    "    end= data.sample(1)[\"city2\"].values[0]\n",
    "\n",
    "else:\n",
    "    start = 'Atlanta, GA (Metropolitan Area)'\n",
    "    end = 'Eugene, OR'\n",
    "print(\"Start: \",start,\" End: \",end)"
   ]
  },
  {
   "cell_type": "code",
   "execution_count": null,
   "id": "15237038",
   "metadata": {},
   "outputs": [
    {
     "name": "stdout",
     "output_type": "stream",
     "text": [
      "child Count 44\n",
      "mutation\n",
      "mutation\n",
      "child Count 40\n",
      "child Count 78\n",
      "child Count 10\n",
      "mutation\n",
      "child Count 8\n",
      "child Count 30\n",
      "mutation\n",
      "child Count 34\n",
      "mutation\n",
      "child Count 8\n",
      "child Count 30\n",
      "child Count 16\n",
      "--- 0.7358388900756836 seconds Genetic Algorithm---\n"
     ]
    },
    {
     "data": {
      "text/plain": [
       "2420"
      ]
     },
     "execution_count": 71,
     "metadata": {},
     "output_type": "execute_result"
    }
   ],
   "source": [
    "from FunctionsGenetic import genetic_algorithm\n",
    "# Genetic Algorithm to find the best route between two cities\n",
    "\n",
    "# Start:  Chicago, IL  End:  New York City, NY (Metropolitan Area)\n",
    "import time\n",
    "\n",
    "start_time = time.time()\n",
    "\n",
    "route = genetic_algorithm(GGen, start, end, sampleSize=100, parentCount=10, generations=100)\n",
    "print(\"--- %s seconds Genetic Algorithm---\" % (time.time() - start_time))\n",
    "\n",
    "route[-1][-1]"
   ]
  },
  {
   "cell_type": "code",
   "execution_count": null,
   "id": "405375cd",
   "metadata": {},
   "outputs": [
    {
     "data": {
      "text/plain": [
       "['New York City, NY (Metropolitan Area)',\n",
       " 'Richmond, VA',\n",
       " 'Tampa, FL (Metropolitan Area)']"
      ]
     },
     "execution_count": 55,
     "metadata": {},
     "output_type": "execute_result"
    }
   ],
   "source": [
    "path=[]\n",
    "for node in route:\n",
    "    path.append(node[0])\n",
    "path"
   ]
  },
  {
   "cell_type": "code",
   "execution_count": 65,
   "id": "75816ae2",
   "metadata": {},
   "outputs": [
    {
     "name": "stdout",
     "output_type": "stream",
     "text": [
      "Dijkstra\n",
      "Optimal Flight Path: ['New York City, NY (Metropolitan Area)', 'Tucson, AZ'], Distance with heuristic: 2142.0 km\n",
      "--- 0.03238058090209961 seconds Dijkstra's---\n",
      "A*\n",
      "Optimal Flight Path: ['New York City, NY (Metropolitan Area)', 'Tucson, AZ'], Distance with heuristic: 2142.0 km\n",
      "--- 0.012818098068237305 seconds A*---\n"
     ]
    }
   ],
   "source": [
    "from Functions import heuristic, dijkstra, a_star\n",
    "\n",
    "start_time = time.time()\n",
    "\n",
    "print(\"Dijkstra\") \n",
    "distances, preds = dijkstra(G, start)\n",
    "if(distances[end]==float('inf')):\n",
    "    print(\"No path found\")\n",
    "else:\n",
    "    path = []\n",
    "    node = end\n",
    "    while node is not None:\n",
    "        path.append(node)\n",
    "        node = preds[node]\n",
    "    path.reverse()\n",
    "    print(f\"Optimal Flight Path: {path}, Distance with heuristic: {distances[end]} km\")\n",
    "print(\"--- %s seconds Dijkstra's---\" % (time.time() - start_time))\n",
    "\n",
    "start_time = time.time()\n",
    "\n",
    "# #####################\n",
    "print(\"A*\")\n",
    "distances, preds = a_star(G, start, end, heuristic)\n",
    "\n",
    "path = []\n",
    "node = end\n",
    "while node is not None:\n",
    "    path.append(node)\n",
    "    node = preds[node]\n",
    "path.reverse()\n",
    "# path = nx.astar_path(G, start, end, heuristic=heuristic, weight='weight')\n",
    "print(f\"Optimal Flight Path: {path}, Distance with heuristic: {distances[end]} km\")\n",
    "print(\"--- %s seconds A*---\" % (time.time() - start_time))"
   ]
  },
  {
   "cell_type": "code",
   "execution_count": 66,
   "id": "723857ad",
   "metadata": {},
   "outputs": [
    {
     "name": "stdout",
     "output_type": "stream",
     "text": [
      "Multi A*\n",
      "Path: ['New York City, NY (Metropolitan Area)', 'Tucson, AZ'], Distance: 2173, Money: 152.1\n",
      "Path: ['New York City, NY (Metropolitan Area)', 'Tucson, AZ'], Distance: 2142, Money: 230.11\n",
      "--- 0.05200314521789551 seconds A*---\n"
     ]
    }
   ],
   "source": [
    "from Functions import multi_criteria_a_star, reconstruct_path\n",
    "\n",
    "print(\"Multi A*\")\n",
    "start_time = time.time()\n",
    "pareto_front, predecessors = multi_criteria_a_star(G, start, end, heuristic)\n",
    "paths = reconstruct_path(start, end, pareto_front, predecessors)\n",
    "\n",
    "# Print results\n",
    "for path, (distance, money) in paths:\n",
    "    print(f\"Path: {path}, Distance: {distance}, Money: {money}\")\n",
    "print(\"--- %s seconds A*---\" % (time.time() - start_time))"
   ]
  }
 ],
 "metadata": {
  "kernelspec": {
   "display_name": "Python 3",
   "language": "python",
   "name": "python3"
  },
  "language_info": {
   "codemirror_mode": {
    "name": "ipython",
    "version": 3
   },
   "file_extension": ".py",
   "mimetype": "text/x-python",
   "name": "python",
   "nbconvert_exporter": "python",
   "pygments_lexer": "ipython3",
   "version": "3.11.7"
  }
 },
 "nbformat": 4,
 "nbformat_minor": 5
}
